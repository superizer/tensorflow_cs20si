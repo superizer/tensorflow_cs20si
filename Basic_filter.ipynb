{
 "cells": [
  {
   "cell_type": "code",
   "execution_count": 2,
   "metadata": {},
   "outputs": [
    {
     "data": {
      "text/plain": [
       "'\\nSimple examples of convolution to do some basic filters\\nAlso demonstrates the use of TensorFlow data readers.\\nWe will use some popular filters for our image.\\nIt seems to be working with grayscale images, but not with rgb images.\\nIt\\'s probably because I didn\\'t choose the right kernels for rgb images.\\nkernels for rgb images have dimensions 3 x 3 x 3 x 3\\nkernels for grayscale images have dimensions 3 x 3 x 1 x 1\\n\\n\\nNote:\\nWhen you call tf.train.string_input_producer,\\na tf.train.QueueRunner is added to the graph, which must be run using\\ne.g. tf.train.start_queue_runners() else your session will run into deadlock\\nand your program will crash.\\n\\n\\nAnd to run QueueRunner, you need a coordinator to close to your queue for you.\\nWithout coordinator, your threads will keep on running outside session and you will have the error:\\nERROR:tensorflow:Exception in QueueRunner: Attempted to use a closed Session.\\n\\n\\nAuthor: Chip Huyen\\nPrepared for the class CS 20SI: \"TensorFlow for Deep Learning Research\"\\ncs20si.stanford.edu\\n'"
      ]
     },
     "execution_count": 2,
     "metadata": {},
     "output_type": "execute_result"
    }
   ],
   "source": [
    "\"\"\"\n",
    "Simple examples of convolution to do some basic filters\n",
    "Also demonstrates the use of TensorFlow data readers.\n",
    "We will use some popular filters for our image.\n",
    "It seems to be working with grayscale images, but not with rgb images.\n",
    "It's probably because I didn't choose the right kernels for rgb images.\n",
    "kernels for rgb images have dimensions 3 x 3 x 3 x 3\n",
    "kernels for grayscale images have dimensions 3 x 3 x 1 x 1\n",
    "\n",
    "\n",
    "Note:\n",
    "When you call tf.train.string_input_producer,\n",
    "a tf.train.QueueRunner is added to the graph, which must be run using\n",
    "e.g. tf.train.start_queue_runners() else your session will run into deadlock\n",
    "and your program will crash.\n",
    "\n",
    "\n",
    "And to run QueueRunner, you need a coordinator to close to your queue for you.\n",
    "Without coordinator, your threads will keep on running outside session and you will have the error:\n",
    "ERROR:tensorflow:Exception in QueueRunner: Attempted to use a closed Session.\n",
    "\n",
    "\n",
    "Author: Chip Huyen\n",
    "Prepared for the class CS 20SI: \"TensorFlow for Deep Learning Research\"\n",
    "cs20si.stanford.edu\n",
    "\"\"\""
   ]
  },
  {
   "cell_type": "code",
   "execution_count": 4,
   "metadata": {},
   "outputs": [],
   "source": [
    "import os\n",
    "os.environ['TF_CPP_MIN_LOG_LEVEL']='2'\n",
    "\n",
    "import sys\n",
    "sys.path.append('..')\n",
    "\n",
    "from matplotlib import gridspec as gridspec\n",
    "from matplotlib import pyplot as plt\n",
    "import tensorflow as tf\n",
    "\n",
    "import kernels"
   ]
  },
  {
   "cell_type": "code",
   "execution_count": 5,
   "metadata": {
    "collapsed": true
   },
   "outputs": [],
   "source": [
    "FILENAME = 'data/friday.jpg'"
   ]
  },
  {
   "cell_type": "code",
   "execution_count": 6,
   "metadata": {
    "collapsed": true
   },
   "outputs": [],
   "source": [
    "def read_one_image(filename):\n",
    "    \"\"\" This is just to demonstrate how to open an image in TensorFlow,\n",
    "    but it's actually a lot easier to use Pillow \n",
    "    \"\"\"\n",
    "    filename_queue = tf.train.string_input_producer([filename])\n",
    "    image_reader = tf.WholeFileReader()\n",
    "    _, image_file = image_reader.read(filename_queue)\n",
    "    image = tf.image.decode_jpeg(image_file, channels=3)\n",
    "    image = tf.cast(image, tf.float32) / 256.0 # cast to float to make conv2d work\n",
    "    return image"
   ]
  },
  {
   "cell_type": "code",
   "execution_count": 7,
   "metadata": {
    "collapsed": true
   },
   "outputs": [],
   "source": [
    "def convolve(image, kernels, rgb=True, strides=[1, 3, 3, 1], padding='SAME'):\n",
    "    images = [image[0]]\n",
    "    for i, kernel in enumerate(kernels):\n",
    "        filtered_image = tf.nn.conv2d(image, kernel, strides=strides, padding=padding)[0]\n",
    "        if i == 2:\n",
    "            filtered_image = tf.minimum(tf.nn.relu(filtered_image), 255)\n",
    "        images.append(filtered_image)\n",
    "    return images"
   ]
  },
  {
   "cell_type": "code",
   "execution_count": 8,
   "metadata": {
    "collapsed": true
   },
   "outputs": [],
   "source": [
    "def get_real_images(images):\n",
    "    with tf.Session() as sess:\n",
    "        coord = tf.train.Coordinator()\n",
    "        threads = tf.train.start_queue_runners(coord=coord)\n",
    "        images = sess.run(images)\n",
    "        coord.request_stop()\n",
    "        coord.join(threads)\n",
    "    return images"
   ]
  },
  {
   "cell_type": "code",
   "execution_count": 9,
   "metadata": {
    "collapsed": true
   },
   "outputs": [],
   "source": [
    "def show_images(images, rgb=True):\n",
    "    gs = gridspec.GridSpec(1, len(images))\n",
    "    for i, image in enumerate(images):\n",
    "        plt.subplot(gs[0, i])\n",
    "        if rgb:\n",
    "            plt.imshow(image)\n",
    "        else: \n",
    "            image = image.reshape(image.shape[0], image.shape[1])\n",
    "            plt.imshow(image, cmap='gray')\n",
    "        plt.axis('off')\n",
    "    plt.show()"
   ]
  },
  {
   "cell_type": "code",
   "execution_count": 10,
   "metadata": {
    "collapsed": true
   },
   "outputs": [],
   "source": [
    "def main():\n",
    "    rgb = False\n",
    "    if rgb:\n",
    "        kernels_list = [kernels.BLUR_FILTER_RGB, kernels.SHARPEN_FILTER_RGB, kernels.EDGE_FILTER_RGB, \n",
    "                    kernels.TOP_SOBEL_RGB, kernels.EMBOSS_FILTER_RGB]\n",
    "    else:\n",
    "        kernels_list = [kernels.BLUR_FILTER, kernels.SHARPEN_FILTER, kernels.EDGE_FILTER, \n",
    "                    kernels.TOP_SOBEL, kernels.EMBOSS_FILTER]\n",
    "\n",
    "    image = read_one_image(FILENAME)\n",
    "    if not rgb:\n",
    "        image = tf.image.rgb_to_grayscale(image)\n",
    "    image = tf.expand_dims(image, 0) # to make it into a batch of 1 element\n",
    "    images = convolve(image, kernels_list, rgb)\n",
    "    images = get_real_images(images)\n",
    "    show_images(images, rgb)"
   ]
  },
  {
   "cell_type": "code",
   "execution_count": 11,
   "metadata": {},
   "outputs": [
    {
     "data": {
      "image/png": "[encoded data removed]",
      "text/plain": [
       "<matplotlib.figure.Figure at 0x11a408a20>"
      ]
     },
     "metadata": {},
     "output_type": "display_data"
    }
   ],
   "source": [
    "if __name__ == '__main__':\n",
    "    main()"
   ]
  },
  {
   "cell_type": "code",
   "execution_count": null,
   "metadata": {
    "collapsed": true
   },
   "outputs": [],
   "source": []
  }
 ],
 "metadata": {
  "kernelspec": {
   "display_name": "Python 3",
   "language": "python",
   "name": "python3"
  },
  "language_info": {
   "codemirror_mode": {
    "name": "ipython",
    "version": 3
   },
   "file_extension": ".py",
   "mimetype": "text/x-python",
   "name": "python",
   "nbconvert_exporter": "python",
   "pygments_lexer": "ipython3",
   "version": "3.6.2"
  }
 },
 "nbformat": 4,
 "nbformat_minor": 2
}
