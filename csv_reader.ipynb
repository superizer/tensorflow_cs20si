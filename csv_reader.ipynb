{
 "cells": [
  {
   "cell_type": "code",
   "execution_count": 1,
   "metadata": {},
   "outputs": [
    {
     "data": {
      "text/plain": [
       "' Some people tried to use TextLineReader for the assignment 1\\nbut seem to have problems getting it work, so here is a short \\nscript demonstrating the use of CSV reader on the heart dataset.\\nNote that the heart dataset is originally in txt so I first\\nconverted it to csv to take advantage of the already laid out columns.\\nYou can download heart.csv in the data folder.\\nAuthor: Chip Huyen\\nPrepared for the class CS 20SI: \"TensorFlow for Deep Learning Research\"\\ncs20si.stanford.edu\\n'"
      ]
     },
     "execution_count": 1,
     "metadata": {},
     "output_type": "execute_result"
    }
   ],
   "source": [
    "\"\"\" Some people tried to use TextLineReader for the assignment 1\n",
    "but seem to have problems getting it work, so here is a short \n",
    "script demonstrating the use of CSV reader on the heart dataset.\n",
    "Note that the heart dataset is originally in txt so I first\n",
    "converted it to csv to take advantage of the already laid out columns.\n",
    "You can download heart.csv in the data folder.\n",
    "Author: Chip Huyen\n",
    "Prepared for the class CS 20SI: \"TensorFlow for Deep Learning Research\"\n",
    "cs20si.stanford.edu\n",
    "\"\"\""
   ]
  },
  {
   "cell_type": "code",
   "execution_count": 2,
   "metadata": {
    "collapsed": true
   },
   "outputs": [],
   "source": [
    "import os\n",
    "os.environ['TF_CPP_MIN_LOG_LEVEL']='2'\n",
    "\n",
    "import sys\n",
    "sys.path.append('..')\n",
    "\n",
    "import tensorflow as tf"
   ]
  },
  {
   "cell_type": "code",
   "execution_count": 3,
   "metadata": {
    "collapsed": true
   },
   "outputs": [],
   "source": [
    "DATA_PATH = 'data/heart.csv'\n",
    "BATCH_SIZE = 2\n",
    "N_FEATURES = 9"
   ]
  },
  {
   "cell_type": "code",
   "execution_count": 4,
   "metadata": {
    "collapsed": true
   },
   "outputs": [],
   "source": [
    "def batch_generator(filenames):\n",
    "    \"\"\" filenames is the list of files you want to read from. \n",
    "    In this case, it contains only heart.csv\n",
    "    \"\"\"\n",
    "    filename_queue = tf.train.string_input_producer(filenames)\n",
    "    reader = tf.TextLineReader(skip_header_lines=1) # skip the first line in the file\n",
    "    _, value = reader.read(filename_queue)\n",
    "\n",
    "    # record_defaults are the default values in case some of our columns are empty\n",
    "    # This is also to tell tensorflow the format of our data (the type of the decode result)\n",
    "    # for this dataset, out of 9 feature columns, \n",
    "    # 8 of them are floats (some are integers, but to make our features homogenous, \n",
    "    # we consider them floats), and 1 is string (at position 5)\n",
    "    # the last column corresponds to the lable is an integer\n",
    "\n",
    "    record_defaults = [[1.0] for _ in range(N_FEATURES)]\n",
    "    record_defaults[4] = ['']\n",
    "    record_defaults.append([1])\n",
    "\n",
    "    # read in the 10 rows of data\n",
    "    content = tf.decode_csv(value, record_defaults=record_defaults) \n",
    "\n",
    "    # convert the 5th column (present/absent) to the binary value 0 and 1\n",
    "    content[4] = tf.cond(tf.equal(content[4], tf.constant('Present')), lambda: tf.constant(1.0), lambda: tf.constant(0.0))\n",
    "\n",
    "    # pack all 9 features into a tensor\n",
    "    features = tf.stack(content[:N_FEATURES])\n",
    "\n",
    "    # assign the last column to label\n",
    "    label = content[-1]\n",
    "\n",
    "    # minimum number elements in the queue after a dequeue, used to ensure \n",
    "    # that the samples are sufficiently mixed\n",
    "    # I think 10 times the BATCH_SIZE is sufficient\n",
    "    min_after_dequeue = 10 * BATCH_SIZE\n",
    "\n",
    "    # the maximum number of elements in the queue\n",
    "    capacity = 20 * BATCH_SIZE\n",
    "\n",
    "    # shuffle the data to generate BATCH_SIZE sample pairs\n",
    "    data_batch, label_batch = tf.train.shuffle_batch([features, label], batch_size=BATCH_SIZE, \n",
    "                                        capacity=capacity, min_after_dequeue=min_after_dequeue)\n",
    "\n",
    "    return data_batch, label_batch"
   ]
  },
  {
   "cell_type": "code",
   "execution_count": 5,
   "metadata": {
    "collapsed": true
   },
   "outputs": [],
   "source": [
    "def generate_batches(data_batch, label_batch):\n",
    "    with tf.Session() as sess:\n",
    "        coord = tf.train.Coordinator()\n",
    "        threads = tf.train.start_queue_runners(coord=coord)\n",
    "        for _ in range(10): # generate 10 batches\n",
    "            features, labels = sess.run([data_batch, label_batch])\n",
    "            print(features)\n",
    "        coord.request_stop()\n",
    "        coord.join(threads)"
   ]
  },
  {
   "cell_type": "code",
   "execution_count": 6,
   "metadata": {
    "collapsed": true
   },
   "outputs": [],
   "source": [
    "def main():\n",
    "    data_batch, label_batch = batch_generator([DATA_PATH])\n",
    "    generate_batches(data_batch, label_batch)"
   ]
  },
  {
   "cell_type": "code",
   "execution_count": 7,
   "metadata": {},
   "outputs": [
    {
     "name": "stdout",
     "output_type": "stream",
     "text": [
      "[[  1.44000000e+02   9.99999978e-03   4.40999985e+00   2.86100006e+01\n",
      "    0.00000000e+00   5.50000000e+01   2.88700008e+01   2.05999994e+00\n",
      "    6.30000000e+01]\n",
      " [  1.18000000e+02   0.00000000e+00   1.88000000e+00   1.00500002e+01\n",
      "    0.00000000e+00   5.90000000e+01   2.15699997e+01   0.00000000e+00\n",
      "    1.70000000e+01]]\n",
      "[[ 134.           14.10000038    4.44000006   22.38999939    1.           65.\n",
      "    23.09000015    0.           40.        ]\n",
      " [ 106.            1.61000001    1.74000001   12.31999969    0.           74.\n",
      "    20.92000008   13.36999989   20.        ]]\n",
      "[[ 124.           14.            6.23000002   35.95999908    1.           45.\n",
      "    30.09000015    0.           59.        ]\n",
      " [ 142.            4.05000019    3.38000011   16.20000076    0.           59.\n",
      "    20.80999947    2.61999989   38.        ]]\n",
      "[[ 120.            7.5          15.32999992   22.            0.           60.\n",
      "    25.30999947   34.49000168   49.        ]\n",
      " [ 132.            0.            1.87         17.20999908    0.           49.\n",
      "    23.62999916    0.97000003   15.        ]]\n",
      "[[ 158.            2.5999999     7.46000004   34.06999969    1.           61.\n",
      "    29.29999924   53.27999878   62.        ]\n",
      " [ 114.            4.07999992    4.59000015   14.60000038    1.           62.\n",
      "    23.11000061    6.71999979   58.        ]]\n",
      "[[ 170.            7.5           6.40999985   38.02999878    1.           51.\n",
      "    31.98999977   24.26000023   58.        ]\n",
      " [ 146.           10.5           8.28999996   35.36000061    1.           78.\n",
      "    32.72999954   13.89000034   53.        ]]\n",
      "[[ 110.            4.63999987    4.55000019   30.45999908    0.           48.\n",
      "    30.89999962   15.22000027   46.        ]\n",
      " [ 206.            6.            2.95000005   32.27000046    0.           72.\n",
      "    26.80999947   56.06000137   60.        ]]\n",
      "[[ 148.            5.5           7.0999999    25.30999947    0.           56.\n",
      "    29.84000015    3.5999999    48.        ]\n",
      " [ 117.            1.52999997    2.44000006   28.95000076    1.           35.\n",
      "    25.88999939   30.03000069   46.        ]]\n",
      "[[ 145.            9.10000038    5.23999977   27.54999924    0.           59.\n",
      "    20.95999908   21.60000038   61.        ]\n",
      " [ 126.            8.75          6.53000021   34.02000046    0.           49.\n",
      "    30.25          0.           41.        ]]\n",
      "[[ 124.            4.           12.42000008   31.29000092    1.           54.\n",
      "    23.22999954    2.05999994   42.        ]\n",
      " [ 132.            6.19999981    6.46999979   36.20999908    1.           62.\n",
      "    30.77000046   14.14000034   45.        ]]\n"
     ]
    }
   ],
   "source": [
    "if __name__ == '__main__':\n",
    "    main()"
   ]
  },
  {
   "cell_type": "code",
   "execution_count": null,
   "metadata": {
    "collapsed": true
   },
   "outputs": [],
   "source": []
  }
 ],
 "metadata": {
  "kernelspec": {
   "display_name": "Python 3",
   "language": "python",
   "name": "python3"
  },
  "language_info": {
   "codemirror_mode": {
    "name": "ipython",
    "version": 3
   },
   "file_extension": ".py",
   "mimetype": "text/x-python",
   "name": "python",
   "nbconvert_exporter": "python",
   "pygments_lexer": "ipython3",
   "version": "3.6.2"
  }
 },
 "nbformat": 4,
 "nbformat_minor": 2
}
